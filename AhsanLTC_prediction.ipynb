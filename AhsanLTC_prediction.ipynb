{
  "nbformat": 4,
  "nbformat_minor": 0,
  "metadata": {
    "colab": {
      "name": "AhsanLTC_prediction.ipynb",
      "provenance": [],
      "collapsed_sections": [],
      "include_colab_link": true
    },
    "kernelspec": {
      "name": "python3",
      "display_name": "Python 3"
    },
    "accelerator": "GPU"
  },
  "cells": [
    {
      "cell_type": "markdown",
      "metadata": {
        "id": "view-in-github",
        "colab_type": "text"
      },
      "source": [
        "<a href=\"https://colab.research.google.com/github/Ahsiiiiiii/Ahsan/blob/master/AhsanLTC_prediction.ipynb\" target=\"_parent\"><img src=\"https://colab.research.google.com/assets/colab-badge.svg\" alt=\"Open In Colab\"/></a>"
      ]
    },
    {
      "cell_type": "code",
      "metadata": {
        "id": "sHEdIovSDZ0l",
        "colab": {
          "base_uri": "https://localhost:8080/",
          "height": 510
        },
        "outputId": "ea5de3b9-e124-4614-c361-60f0bac0d73d"
      },
      "source": [
        "!pip install tensorflow-gpu==2.0.0-alpha0"
      ],
      "execution_count": null,
      "outputs": [
        {
          "output_type": "stream",
          "text": [
            "Collecting tensorflow-gpu==2.0.0-alpha0\n",
            "\u001b[?25l  Downloading https://files.pythonhosted.org/packages/1a/66/32cffad095253219d53f6b6c2a436637bbe45ac4e7be0244557210dc3918/tensorflow_gpu-2.0.0a0-cp36-cp36m-manylinux1_x86_64.whl (332.1MB)\n",
            "\u001b[K    100% |████████████████████████████████| 332.1MB 51kB/s \n",
            "\u001b[?25hRequirement already satisfied: keras-preprocessing>=1.0.5 in /usr/local/lib/python3.6/dist-packages (from tensorflow-gpu==2.0.0-alpha0) (1.0.9)\n",
            "Requirement already satisfied: grpcio>=1.8.6 in /usr/local/lib/python3.6/dist-packages (from tensorflow-gpu==2.0.0-alpha0) (1.15.0)\n",
            "Collecting google-pasta>=0.1.2 (from tensorflow-gpu==2.0.0-alpha0)\n",
            "\u001b[?25l  Downloading https://files.pythonhosted.org/packages/64/bb/f1bbc131d6294baa6085a222d29abadd012696b73dcbf8cf1bf56b9f082a/google_pasta-0.1.5-py3-none-any.whl (51kB)\n",
            "\u001b[K    100% |████████████████████████████████| 61kB 19.3MB/s \n",
            "\u001b[?25hRequirement already satisfied: keras-applications>=1.0.6 in /usr/local/lib/python3.6/dist-packages (from tensorflow-gpu==2.0.0-alpha0) (1.0.7)\n",
            "Requirement already satisfied: astor>=0.6.0 in /usr/local/lib/python3.6/dist-packages (from tensorflow-gpu==2.0.0-alpha0) (0.7.1)\n",
            "Requirement already satisfied: absl-py>=0.7.0 in /usr/local/lib/python3.6/dist-packages (from tensorflow-gpu==2.0.0-alpha0) (0.7.1)\n",
            "Requirement already satisfied: numpy<2.0,>=1.14.5 in /usr/local/lib/python3.6/dist-packages (from tensorflow-gpu==2.0.0-alpha0) (1.16.3)\n",
            "Requirement already satisfied: termcolor>=1.1.0 in /usr/local/lib/python3.6/dist-packages (from tensorflow-gpu==2.0.0-alpha0) (1.1.0)\n",
            "Collecting tf-estimator-nightly<1.14.0.dev2019030116,>=1.14.0.dev2019030115 (from tensorflow-gpu==2.0.0-alpha0)\n",
            "\u001b[?25l  Downloading https://files.pythonhosted.org/packages/13/82/f16063b4eed210dc2ab057930ac1da4fbe1e91b7b051a6c8370b401e6ae7/tf_estimator_nightly-1.14.0.dev2019030115-py2.py3-none-any.whl (411kB)\n",
            "\u001b[K    100% |████████████████████████████████| 419kB 11.5MB/s \n",
            "\u001b[?25hRequirement already satisfied: six>=1.10.0 in /usr/local/lib/python3.6/dist-packages (from tensorflow-gpu==2.0.0-alpha0) (1.12.0)\n",
            "Requirement already satisfied: protobuf>=3.6.1 in /usr/local/lib/python3.6/dist-packages (from tensorflow-gpu==2.0.0-alpha0) (3.7.1)\n",
            "Collecting tb-nightly<1.14.0a20190302,>=1.14.0a20190301 (from tensorflow-gpu==2.0.0-alpha0)\n",
            "\u001b[?25l  Downloading https://files.pythonhosted.org/packages/a9/51/aa1d756644bf4624c03844115e4ac4058eff77acd786b26315f051a4b195/tb_nightly-1.14.0a20190301-py3-none-any.whl (3.0MB)\n",
            "\u001b[K    100% |████████████████████████████████| 3.0MB 5.7MB/s \n",
            "\u001b[?25hRequirement already satisfied: gast>=0.2.0 in /usr/local/lib/python3.6/dist-packages (from tensorflow-gpu==2.0.0-alpha0) (0.2.2)\n",
            "Requirement already satisfied: wheel>=0.26 in /usr/local/lib/python3.6/dist-packages (from tensorflow-gpu==2.0.0-alpha0) (0.33.1)\n",
            "Requirement already satisfied: h5py in /usr/local/lib/python3.6/dist-packages (from keras-applications>=1.0.6->tensorflow-gpu==2.0.0-alpha0) (2.8.0)\n",
            "Requirement already satisfied: setuptools in /usr/local/lib/python3.6/dist-packages (from protobuf>=3.6.1->tensorflow-gpu==2.0.0-alpha0) (40.9.0)\n",
            "Requirement already satisfied: werkzeug>=0.11.15 in /usr/local/lib/python3.6/dist-packages (from tb-nightly<1.14.0a20190302,>=1.14.0a20190301->tensorflow-gpu==2.0.0-alpha0) (0.15.2)\n",
            "Requirement already satisfied: markdown>=2.6.8 in /usr/local/lib/python3.6/dist-packages (from tb-nightly<1.14.0a20190302,>=1.14.0a20190301->tensorflow-gpu==2.0.0-alpha0) (3.1)\n",
            "Installing collected packages: google-pasta, tf-estimator-nightly, tb-nightly, tensorflow-gpu\n",
            "Successfully installed google-pasta-0.1.5 tb-nightly-1.14.0a20190301 tensorflow-gpu-2.0.0a0 tf-estimator-nightly-1.14.0.dev2019030115\n"
          ],
          "name": "stdout"
        }
      ]
    },
    {
      "cell_type": "code",
      "metadata": {
        "id": "VBXq-Wb_K1XR"
      },
      "source": [
        "import os\n",
        "import numpy as np\n",
        "import tensorflow as tf\n",
        "from tensorflow import keras\n",
        "import pandas as pd\n",
        "import seaborn as sns\n",
        "from pylab import rcParams\n",
        "import matplotlib.pyplot as plt\n",
        "from matplotlib import rc\n",
        "from sklearn.preprocessing import MinMaxScaler\n",
        "from tensorflow.keras.layers import Bidirectional, Dropout, Activation, Dense, LSTM\n",
        "from tensorflow.python.keras.layers import CuDNNLSTM\n",
        "from tensorflow.keras.models import Sequential\n",
        "\n",
        "%matplotlib inline\n",
        "\n",
        "sns.set(style='whitegrid', palette='muted', font_scale=1.5)\n",
        "\n",
        "rcParams['figure.figsize'] = 14, 8\n",
        "\n",
        "RANDOM_SEED = 42\n",
        "\n",
        "np.random.seed(RANDOM_SEED)"
      ],
      "execution_count": null,
      "outputs": []
    },
    {
      "cell_type": "code",
      "metadata": {
        "id": "y5o6dHO2LLz-"
      },
      "source": [
        "# Data comes from:\n",
        "# https://finance.yahoo.com/quote/BTC-USD/history?period1=1279314000&period2=1556053200&interval=1d&filter=history&frequency=1d\n",
        "\n",
        "csv_path = \"https://raw.githubusercontent.com/Ahsiiiiiii/LTC/main/LTC-USD.csv\"\n",
        "# csv_path = \"https://raw.githubusercontent.com/curiousily/Deep-Learning-For-Hackers/master/data/3.stock-prediction/AAPL.csv\""
      ],
      "execution_count": null,
      "outputs": []
    },
    {
      "cell_type": "code",
      "metadata": {
        "id": "BnuBLC5DLjXH"
      },
      "source": [
        "df = pd.read_csv(csv_path, parse_dates=['Date'])"
      ],
      "execution_count": null,
      "outputs": []
    },
    {
      "cell_type": "code",
      "metadata": {
        "id": "kqMRRLeTLk_P"
      },
      "source": [
        "df = df.sort_values('Date')"
      ],
      "execution_count": null,
      "outputs": []
    },
    {
      "cell_type": "code",
      "metadata": {
        "id": "mU4B3eNtLpgH",
        "colab": {
          "base_uri": "https://localhost:8080/",
          "height": 204
        },
        "outputId": "ecac58a2-c839-4932-d180-db2a2a1f3b6b"
      },
      "source": [
        "df.head()"
      ],
      "execution_count": null,
      "outputs": [
        {
          "output_type": "execute_result",
          "data": {
            "text/html": [
              "<div>\n",
              "<style scoped>\n",
              "    .dataframe tbody tr th:only-of-type {\n",
              "        vertical-align: middle;\n",
              "    }\n",
              "\n",
              "    .dataframe tbody tr th {\n",
              "        vertical-align: top;\n",
              "    }\n",
              "\n",
              "    .dataframe thead th {\n",
              "        text-align: right;\n",
              "    }\n",
              "</style>\n",
              "<table border=\"1\" class=\"dataframe\">\n",
              "  <thead>\n",
              "    <tr style=\"text-align: right;\">\n",
              "      <th></th>\n",
              "      <th>Date</th>\n",
              "      <th>Open</th>\n",
              "      <th>High</th>\n",
              "      <th>Low</th>\n",
              "      <th>Close</th>\n",
              "      <th>Adj Close</th>\n",
              "      <th>Volume</th>\n",
              "    </tr>\n",
              "  </thead>\n",
              "  <tbody>\n",
              "    <tr>\n",
              "      <th>0</th>\n",
              "      <td>2017-07-25</td>\n",
              "      <td>0.115203</td>\n",
              "      <td>0.115841</td>\n",
              "      <td>0.101531</td>\n",
              "      <td>0.105870</td>\n",
              "      <td>0.105870</td>\n",
              "      <td>145269.0</td>\n",
              "    </tr>\n",
              "    <tr>\n",
              "      <th>1</th>\n",
              "      <td>2017-07-26</td>\n",
              "      <td>0.105893</td>\n",
              "      <td>0.109013</td>\n",
              "      <td>0.099266</td>\n",
              "      <td>0.105138</td>\n",
              "      <td>0.105138</td>\n",
              "      <td>200395.0</td>\n",
              "    </tr>\n",
              "    <tr>\n",
              "      <th>2</th>\n",
              "      <td>2017-07-27</td>\n",
              "      <td>0.105108</td>\n",
              "      <td>0.108479</td>\n",
              "      <td>0.100888</td>\n",
              "      <td>0.107737</td>\n",
              "      <td>0.107737</td>\n",
              "      <td>344499.0</td>\n",
              "    </tr>\n",
              "    <tr>\n",
              "      <th>3</th>\n",
              "      <td>2017-07-28</td>\n",
              "      <td>0.107632</td>\n",
              "      <td>0.109019</td>\n",
              "      <td>0.101473</td>\n",
              "      <td>0.104067</td>\n",
              "      <td>0.104067</td>\n",
              "      <td>342568.0</td>\n",
              "    </tr>\n",
              "    <tr>\n",
              "      <th>4</th>\n",
              "      <td>2017-07-29</td>\n",
              "      <td>0.104782</td>\n",
              "      <td>0.111264</td>\n",
              "      <td>0.101108</td>\n",
              "      <td>0.107811</td>\n",
              "      <td>0.107811</td>\n",
              "      <td>340218.0</td>\n",
              "    </tr>\n",
              "  </tbody>\n",
              "</table>\n",
              "</div>"
            ],
            "text/plain": [
              "        Date      Open      High       Low     Close  Adj Close    Volume\n",
              "0 2017-07-25  0.115203  0.115841  0.101531  0.105870   0.105870  145269.0\n",
              "1 2017-07-26  0.105893  0.109013  0.099266  0.105138   0.105138  200395.0\n",
              "2 2017-07-27  0.105108  0.108479  0.100888  0.107737   0.107737  344499.0\n",
              "3 2017-07-28  0.107632  0.109019  0.101473  0.104067   0.104067  342568.0\n",
              "4 2017-07-29  0.104782  0.111264  0.101108  0.107811   0.107811  340218.0"
            ]
          },
          "metadata": {
            "tags": []
          },
          "execution_count": 21
        }
      ]
    },
    {
      "cell_type": "code",
      "metadata": {
        "id": "t-xB1zK0C0mG",
        "colab": {
          "base_uri": "https://localhost:8080/"
        },
        "outputId": "3e9d2194-d399-4ca3-c559-ce0620c3d755"
      },
      "source": [
        "df.shape"
      ],
      "execution_count": null,
      "outputs": [
        {
          "output_type": "execute_result",
          "data": {
            "text/plain": [
              "(1424, 7)"
            ]
          },
          "metadata": {
            "tags": []
          },
          "execution_count": 22
        }
      ]
    },
    {
      "cell_type": "code",
      "metadata": {
        "id": "4XyoR5lG3Jxv",
        "colab": {
          "base_uri": "https://localhost:8080/",
          "height": 336
        },
        "outputId": "25cdc121-96d7-4510-9147-8391403db08d"
      },
      "source": [
        "ax = df.plot(x='Date', y='Close');\n",
        "ax.set_xlabel(\"Date\")\n",
        "ax.set_ylabel(\"Close Price (USD)\")"
      ],
      "execution_count": null,
      "outputs": [
        {
          "output_type": "execute_result",
          "data": {
            "text/plain": [
              "Text(0, 0.5, 'Close Price (USD)')"
            ]
          },
          "metadata": {
            "tags": []
          },
          "execution_count": 23
        },
        {
          "output_type": "display_data",
          "data": {
            "image/png": "[encoded data removed]",
            "text/plain": [
              "<Figure size 432x288 with 1 Axes>"
            ]
          },
          "metadata": {
            "tags": [],
            "needs_background": "light"
          }
        }
      ]
    },
    {
      "cell_type": "markdown",
      "metadata": {
        "id": "7twAH-I-qO9Z"
      },
      "source": [
        "# Normalization"
      ]
    },
    {
      "cell_type": "code",
      "metadata": {
        "id": "Ux2FtgMAqObq"
      },
      "source": [
        "scaler = MinMaxScaler()\n",
        "\n",
        "close_price = df.Close.values.reshape(-1, 1)\n",
        "\n",
        "scaled_close = scaler.fit_transform(close_price)"
      ],
      "execution_count": null,
      "outputs": []
    },
    {
      "cell_type": "code",
      "metadata": {
        "id": "UprkaMWFvQOG",
        "colab": {
          "base_uri": "https://localhost:8080/"
        },
        "outputId": "ead1ccb7-586e-4479-9ca6-75a3fc31ec18"
      },
      "source": [
        "scaled_close.shape"
      ],
      "execution_count": null,
      "outputs": [
        {
          "output_type": "execute_result",
          "data": {
            "text/plain": [
              "(1424, 1)"
            ]
          },
          "metadata": {
            "tags": []
          },
          "execution_count": 25
        }
      ]
    },
    {
      "cell_type": "code",
      "metadata": {
        "id": "qOg2HX9AuTk-",
        "colab": {
          "base_uri": "https://localhost:8080/"
        },
        "outputId": "71e32104-7149-4d04-d8c3-ab48a2534e8a"
      },
      "source": [
        "np.isnan(scaled_close).any()"
      ],
      "execution_count": null,
      "outputs": [
        {
          "output_type": "execute_result",
          "data": {
            "text/plain": [
              "True"
            ]
          },
          "metadata": {
            "tags": []
          },
          "execution_count": 26
        }
      ]
    },
    {
      "cell_type": "code",
      "metadata": {
        "id": "evHUrll9ukht"
      },
      "source": [
        "scaled_close = scaled_close[~np.isnan(scaled_close)]"
      ],
      "execution_count": null,
      "outputs": []
    },
    {
      "cell_type": "code",
      "metadata": {
        "id": "gCyOvwnqvTSw"
      },
      "source": [
        "scaled_close = scaled_close.reshape(-1, 1)"
      ],
      "execution_count": null,
      "outputs": []
    },
    {
      "cell_type": "code",
      "metadata": {
        "id": "eSJxuT3-u6K2",
        "colab": {
          "base_uri": "https://localhost:8080/"
        },
        "outputId": "22d85f9a-8369-4de2-dcf5-e52913304dbe"
      },
      "source": [
        "np.isnan(scaled_close).any()"
      ],
      "execution_count": null,
      "outputs": [
        {
          "output_type": "execute_result",
          "data": {
            "text/plain": [
              "False"
            ]
          },
          "metadata": {
            "tags": []
          },
          "execution_count": 29
        }
      ]
    },
    {
      "cell_type": "markdown",
      "metadata": {
        "id": "CQgrA2va4Jzx"
      },
      "source": [
        "# Preprocessing"
      ]
    },
    {
      "cell_type": "code",
      "metadata": {
        "id": "NS5O4-Vtq-N1"
      },
      "source": [
        "SEQ_LEN = 100\n",
        "\n",
        "def to_sequences(data, seq_len):\n",
        "    d = []\n",
        "\n",
        "    for index in range(len(data) - seq_len):\n",
        "        d.append(data[index: index + seq_len])\n",
        "\n",
        "    return np.array(d)\n",
        "\n",
        "def preprocess(data_raw, seq_len, train_split):\n",
        "\n",
        "    data = to_sequences(data_raw, seq_len)\n",
        "\n",
        "    num_train = int(train_split * data.shape[0])\n",
        "\n",
        "    X_train = data[:num_train, :-1, :]\n",
        "    y_train = data[:num_train, -1, :]\n",
        "\n",
        "    X_test = data[num_train:, :-1, :]\n",
        "    y_test = data[num_train:, -1, :]\n",
        "\n",
        "    return X_train, y_train, X_test, y_test\n",
        "\n",
        "\n",
        "X_train, y_train, X_test, y_test = preprocess(scaled_close, SEQ_LEN, train_split = 0.80)"
      ],
      "execution_count": null,
      "outputs": []
    },
    {
      "cell_type": "code",
      "metadata": {
        "id": "XNBTUeaXreni",
        "colab": {
          "base_uri": "https://localhost:8080/"
        },
        "outputId": "284349e5-616d-45ec-e023-7ba4f9f2400c"
      },
      "source": [
        "X_train.shape"
      ],
      "execution_count": null,
      "outputs": [
        {
          "output_type": "execute_result",
          "data": {
            "text/plain": [
              "(1055, 99, 1)"
            ]
          },
          "metadata": {
            "tags": []
          },
          "execution_count": 50
        }
      ]
    },
    {
      "cell_type": "code",
      "metadata": {
        "id": "4IOoiN3pUUgO",
        "colab": {
          "base_uri": "https://localhost:8080/"
        },
        "outputId": "545662ab-0c49-4bff-b27e-f2556a65680b"
      },
      "source": [
        "X_test.shape"
      ],
      "execution_count": null,
      "outputs": [
        {
          "output_type": "execute_result",
          "data": {
            "text/plain": [
              "(264, 99, 1)"
            ]
          },
          "metadata": {
            "tags": []
          },
          "execution_count": 51
        }
      ]
    },
    {
      "cell_type": "markdown",
      "metadata": {
        "id": "Yhhv26c34YTW"
      },
      "source": [
        "# Model"
      ]
    },
    {
      "cell_type": "code",
      "metadata": {
        "id": "a3dw5qTasJoy"
      },
      "source": [
        "DROPOUT = 0.2\n",
        "WINDOW_SIZE = SEQ_LEN - 1\n",
        "\n",
        "model = keras.Sequential()\n",
        "\n",
        "model.add(Bidirectional(CuDNNLSTM(WINDOW_SIZE, return_sequences=True),\n",
        "                        input_shape=(WINDOW_SIZE, X_train.shape[-1])))\n",
        "model.add(Dropout(rate=DROPOUT))\n",
        "\n",
        "model.add(Bidirectional(CuDNNLSTM((WINDOW_SIZE * 2), return_sequences=True)))\n",
        "model.add(Dropout(rate=DROPOUT))\n",
        "\n",
        "model.add(Bidirectional(CuDNNLSTM(WINDOW_SIZE, return_sequences=False)))\n",
        "\n",
        "model.add(Dense(units=1))\n",
        "\n",
        "model.add(Activation('linear'))"
      ],
      "execution_count": null,
      "outputs": []
    },
    {
      "cell_type": "markdown",
      "metadata": {
        "id": "pjBan-K27L8d"
      },
      "source": [
        "# Training"
      ]
    },
    {
      "cell_type": "code",
      "metadata": {
        "id": "zvc-LMgOHkWJ"
      },
      "source": [
        "model.compile(\n",
        "    loss='mean_squared_error', \n",
        "    optimizer='adam'\n",
        ")"
      ],
      "execution_count": null,
      "outputs": []
    },
    {
      "cell_type": "code",
      "metadata": {
        "id": "m1aU2xDvsvrN",
        "colab": {
          "base_uri": "https://localhost:8080/"
        },
        "outputId": "4d1db94b-e706-4552-ee84-0128b01ef151"
      },
      "source": [
        "BATCH_SIZE = 64\n",
        "\n",
        "history = model.fit(\n",
        "    X_train, \n",
        "    y_train, \n",
        "    epochs=200, \n",
        "    batch_size=BATCH_SIZE, \n",
        "    shuffle=False,\n",
        "    validation_split=0.1\n",
        ")"
      ],
      "execution_count": null,
      "outputs": [
        {
          "output_type": "stream",
          "text": [
            "Epoch 1/200\n",
            "15/15 [==============================] - 4s 110ms/step - loss: 6.6677e-04 - val_loss: 3.1883e-04\n",
            "Epoch 2/200\n",
            "15/15 [==============================] - 1s 46ms/step - loss: 1.7567e-04 - val_loss: 3.8571e-05\n",
            "Epoch 3/200\n",
            "15/15 [==============================] - 1s 46ms/step - loss: 2.3192e-04 - val_loss: 5.9637e-05\n",
            "Epoch 4/200\n",
            "15/15 [==============================] - 1s 46ms/step - loss: 1.7545e-04 - val_loss: 2.8650e-04\n",
            "Epoch 5/200\n",
            "15/15 [==============================] - 1s 46ms/step - loss: 1.8191e-04 - val_loss: 4.7343e-05\n",
            "Epoch 6/200\n",
            "15/15 [==============================] - 1s 46ms/step - loss: 1.9844e-04 - val_loss: 6.2899e-05\n",
            "Epoch 7/200\n",
            "15/15 [==============================] - 1s 46ms/step - loss: 1.8391e-04 - val_loss: 5.3762e-05\n",
            "Epoch 8/200\n",
            "15/15 [==============================] - 1s 45ms/step - loss: 1.9823e-04 - val_loss: 2.4653e-05\n",
            "Epoch 9/200\n",
            "15/15 [==============================] - 1s 45ms/step - loss: 2.1951e-04 - val_loss: 2.6020e-05\n",
            "Epoch 10/200\n",
            "15/15 [==============================] - 1s 46ms/step - loss: 2.0969e-04 - val_loss: 4.2478e-05\n",
            "Epoch 11/200\n",
            "15/15 [==============================] - 1s 46ms/step - loss: 2.2143e-04 - val_loss: 2.8926e-05\n",
            "Epoch 12/200\n",
            "15/15 [==============================] - 1s 46ms/step - loss: 1.9001e-04 - val_loss: 3.4237e-05\n",
            "Epoch 13/200\n",
            "15/15 [==============================] - 1s 46ms/step - loss: 2.4838e-04 - val_loss: 8.6120e-05\n",
            "Epoch 14/200\n",
            "15/15 [==============================] - 1s 46ms/step - loss: 2.0775e-04 - val_loss: 1.1818e-04\n",
            "Epoch 15/200\n",
            "15/15 [==============================] - 1s 46ms/step - loss: 3.1327e-04 - val_loss: 1.1871e-04\n",
            "Epoch 16/200\n",
            "15/15 [==============================] - 1s 46ms/step - loss: 2.8579e-04 - val_loss: 8.4974e-05\n",
            "Epoch 17/200\n",
            "15/15 [==============================] - 1s 49ms/step - loss: 2.6337e-04 - val_loss: 3.6040e-05\n",
            "Epoch 18/200\n",
            "15/15 [==============================] - 1s 46ms/step - loss: 2.0693e-04 - val_loss: 2.0146e-05\n",
            "Epoch 19/200\n",
            "15/15 [==============================] - 1s 46ms/step - loss: 1.3959e-04 - val_loss: 1.6225e-05\n",
            "Epoch 20/200\n",
            "15/15 [==============================] - 1s 46ms/step - loss: 1.0195e-04 - val_loss: 7.2397e-05\n",
            "Epoch 21/200\n",
            "15/15 [==============================] - 1s 45ms/step - loss: 1.0224e-04 - val_loss: 6.4719e-05\n",
            "Epoch 22/200\n",
            "15/15 [==============================] - 1s 47ms/step - loss: 2.0493e-04 - val_loss: 3.7838e-05\n",
            "Epoch 23/200\n",
            "15/15 [==============================] - 1s 47ms/step - loss: 8.8845e-05 - val_loss: 2.2483e-05\n",
            "Epoch 24/200\n",
            "15/15 [==============================] - 1s 45ms/step - loss: 6.2211e-05 - val_loss: 2.5209e-05\n",
            "Epoch 25/200\n",
            "15/15 [==============================] - 1s 46ms/step - loss: 7.7217e-05 - val_loss: 6.5551e-05\n",
            "Epoch 26/200\n",
            "15/15 [==============================] - 1s 47ms/step - loss: 1.8700e-04 - val_loss: 2.3464e-05\n",
            "Epoch 27/200\n",
            "15/15 [==============================] - 1s 46ms/step - loss: 8.0642e-05 - val_loss: 1.8507e-05\n",
            "Epoch 28/200\n",
            "15/15 [==============================] - 1s 46ms/step - loss: 4.0256e-05 - val_loss: 1.3847e-05\n",
            "Epoch 29/200\n",
            "15/15 [==============================] - 1s 46ms/step - loss: 4.2001e-05 - val_loss: 4.6061e-05\n",
            "Epoch 30/200\n",
            "15/15 [==============================] - 1s 46ms/step - loss: 1.0574e-04 - val_loss: 5.2737e-05\n",
            "Epoch 31/200\n",
            "15/15 [==============================] - 1s 46ms/step - loss: 1.5460e-04 - val_loss: 1.1221e-05\n",
            "Epoch 32/200\n",
            "15/15 [==============================] - 1s 46ms/step - loss: 6.7258e-05 - val_loss: 7.2571e-05\n",
            "Epoch 33/200\n",
            "15/15 [==============================] - 1s 46ms/step - loss: 3.9399e-05 - val_loss: 1.2114e-05\n",
            "Epoch 34/200\n",
            "15/15 [==============================] - 1s 46ms/step - loss: 7.2745e-05 - val_loss: 4.4384e-05\n",
            "Epoch 35/200\n",
            "15/15 [==============================] - 1s 46ms/step - loss: 1.3200e-04 - val_loss: 1.9474e-05\n",
            "Epoch 36/200\n",
            "15/15 [==============================] - 1s 46ms/step - loss: 7.6632e-05 - val_loss: 6.8915e-05\n",
            "Epoch 37/200\n",
            "15/15 [==============================] - 1s 45ms/step - loss: 4.1724e-05 - val_loss: 1.1395e-05\n",
            "Epoch 38/200\n",
            "15/15 [==============================] - 1s 46ms/step - loss: 4.8615e-05 - val_loss: 5.8992e-05\n",
            "Epoch 39/200\n",
            "15/15 [==============================] - 1s 46ms/step - loss: 8.9169e-05 - val_loss: 7.1034e-05\n",
            "Epoch 40/200\n",
            "15/15 [==============================] - 1s 47ms/step - loss: 8.6121e-05 - val_loss: 7.1136e-05\n",
            "Epoch 41/200\n",
            "15/15 [==============================] - 1s 45ms/step - loss: 6.4957e-05 - val_loss: 6.1599e-05\n",
            "Epoch 42/200\n",
            "15/15 [==============================] - 1s 45ms/step - loss: 5.1922e-05 - val_loss: 5.1569e-05\n",
            "Epoch 43/200\n",
            "15/15 [==============================] - 1s 45ms/step - loss: 5.3457e-05 - val_loss: 5.9210e-05\n",
            "Epoch 44/200\n",
            "15/15 [==============================] - 1s 46ms/step - loss: 5.5372e-05 - val_loss: 5.9606e-05\n",
            "Epoch 45/200\n",
            "15/15 [==============================] - 1s 46ms/step - loss: 4.9676e-05 - val_loss: 5.2655e-05\n",
            "Epoch 46/200\n",
            "15/15 [==============================] - 1s 46ms/step - loss: 4.4116e-05 - val_loss: 4.8454e-05\n",
            "Epoch 47/200\n",
            "15/15 [==============================] - 1s 46ms/step - loss: 4.0208e-05 - val_loss: 4.2505e-05\n",
            "Epoch 48/200\n",
            "15/15 [==============================] - 1s 46ms/step - loss: 3.8227e-05 - val_loss: 4.4377e-05\n",
            "Epoch 49/200\n",
            "15/15 [==============================] - 1s 45ms/step - loss: 3.6328e-05 - val_loss: 3.9675e-05\n",
            "Epoch 50/200\n",
            "15/15 [==============================] - 1s 46ms/step - loss: 3.3481e-05 - val_loss: 3.6844e-05\n",
            "Epoch 51/200\n",
            "15/15 [==============================] - 1s 45ms/step - loss: 3.1993e-05 - val_loss: 3.5636e-05\n",
            "Epoch 52/200\n",
            "15/15 [==============================] - 1s 45ms/step - loss: 2.9489e-05 - val_loss: 3.0389e-05\n",
            "Epoch 53/200\n",
            "15/15 [==============================] - 1s 45ms/step - loss: 2.8124e-05 - val_loss: 3.2475e-05\n",
            "Epoch 54/200\n",
            "15/15 [==============================] - 1s 46ms/step - loss: 2.7419e-05 - val_loss: 2.8740e-05\n",
            "Epoch 55/200\n",
            "15/15 [==============================] - 1s 45ms/step - loss: 2.6044e-05 - val_loss: 2.9716e-05\n",
            "Epoch 56/200\n",
            "15/15 [==============================] - 1s 45ms/step - loss: 2.5544e-05 - val_loss: 2.6768e-05\n",
            "Epoch 57/200\n",
            "15/15 [==============================] - 1s 46ms/step - loss: 2.4226e-05 - val_loss: 2.5852e-05\n",
            "Epoch 58/200\n",
            "15/15 [==============================] - 1s 46ms/step - loss: 2.3595e-05 - val_loss: 2.5326e-05\n",
            "Epoch 59/200\n",
            "15/15 [==============================] - 1s 46ms/step - loss: 2.3399e-05 - val_loss: 2.5989e-05\n",
            "Epoch 60/200\n",
            "15/15 [==============================] - 1s 45ms/step - loss: 2.3532e-05 - val_loss: 2.5722e-05\n",
            "Epoch 61/200\n",
            "15/15 [==============================] - 1s 45ms/step - loss: 2.3078e-05 - val_loss: 2.4404e-05\n",
            "Epoch 62/200\n",
            "15/15 [==============================] - 1s 46ms/step - loss: 2.2268e-05 - val_loss: 2.3610e-05\n",
            "Epoch 63/200\n",
            "15/15 [==============================] - 1s 45ms/step - loss: 2.1938e-05 - val_loss: 2.2510e-05\n",
            "Epoch 64/200\n",
            "15/15 [==============================] - 1s 45ms/step - loss: 2.1178e-05 - val_loss: 2.2433e-05\n",
            "Epoch 65/200\n",
            "15/15 [==============================] - 1s 47ms/step - loss: 2.0556e-05 - val_loss: 2.1323e-05\n",
            "Epoch 66/200\n",
            "15/15 [==============================] - 1s 45ms/step - loss: 1.9445e-05 - val_loss: 1.9913e-05\n",
            "Epoch 67/200\n",
            "15/15 [==============================] - 1s 45ms/step - loss: 1.8755e-05 - val_loss: 1.8948e-05\n",
            "Epoch 68/200\n",
            "15/15 [==============================] - 1s 45ms/step - loss: 1.8888e-05 - val_loss: 1.8880e-05\n",
            "Epoch 69/200\n",
            "15/15 [==============================] - 1s 45ms/step - loss: 1.8173e-05 - val_loss: 1.7402e-05\n",
            "Epoch 70/200\n",
            "15/15 [==============================] - 1s 45ms/step - loss: 1.8819e-05 - val_loss: 1.9637e-05\n",
            "Epoch 71/200\n",
            "15/15 [==============================] - 1s 46ms/step - loss: 1.8300e-05 - val_loss: 1.8715e-05\n",
            "Epoch 72/200\n",
            "15/15 [==============================] - 1s 45ms/step - loss: 1.8617e-05 - val_loss: 1.8752e-05\n",
            "Epoch 73/200\n",
            "15/15 [==============================] - 1s 45ms/step - loss: 1.8732e-05 - val_loss: 1.8780e-05\n",
            "Epoch 74/200\n",
            "15/15 [==============================] - 1s 46ms/step - loss: 1.8775e-05 - val_loss: 1.9325e-05\n",
            "Epoch 75/200\n",
            "15/15 [==============================] - 1s 46ms/step - loss: 1.9376e-05 - val_loss: 1.9964e-05\n",
            "Epoch 76/200\n",
            "15/15 [==============================] - 1s 45ms/step - loss: 1.9332e-05 - val_loss: 2.0217e-05\n",
            "Epoch 77/200\n",
            "15/15 [==============================] - 1s 45ms/step - loss: 2.0325e-05 - val_loss: 2.2061e-05\n",
            "Epoch 78/200\n",
            "15/15 [==============================] - 1s 46ms/step - loss: 1.9737e-05 - val_loss: 2.0394e-05\n",
            "Epoch 79/200\n",
            "15/15 [==============================] - 1s 45ms/step - loss: 2.1149e-05 - val_loss: 2.3494e-05\n",
            "Epoch 80/200\n",
            "15/15 [==============================] - 1s 46ms/step - loss: 1.9329e-05 - val_loss: 1.9520e-05\n",
            "Epoch 81/200\n",
            "15/15 [==============================] - 1s 45ms/step - loss: 1.9689e-05 - val_loss: 2.0877e-05\n",
            "Epoch 82/200\n",
            "15/15 [==============================] - 1s 45ms/step - loss: 1.7010e-05 - val_loss: 1.4478e-05\n",
            "Epoch 83/200\n",
            "15/15 [==============================] - 1s 45ms/step - loss: 1.6431e-05 - val_loss: 1.5742e-05\n",
            "Epoch 84/200\n",
            "15/15 [==============================] - 1s 45ms/step - loss: 1.3250e-05 - val_loss: 8.6567e-06\n",
            "Epoch 85/200\n",
            "15/15 [==============================] - 1s 45ms/step - loss: 1.3419e-05 - val_loss: 1.0973e-05\n",
            "Epoch 86/200\n",
            "15/15 [==============================] - 1s 45ms/step - loss: 1.0158e-05 - val_loss: 5.4308e-06\n",
            "Epoch 87/200\n",
            "15/15 [==============================] - 1s 45ms/step - loss: 1.2448e-05 - val_loss: 1.0666e-05\n",
            "Epoch 88/200\n",
            "15/15 [==============================] - 1s 45ms/step - loss: 9.9404e-06 - val_loss: 5.0569e-06\n",
            "Epoch 89/200\n",
            "15/15 [==============================] - 1s 45ms/step - loss: 1.5461e-05 - val_loss: 1.5680e-05\n",
            "Epoch 90/200\n",
            "15/15 [==============================] - 1s 46ms/step - loss: 1.3061e-05 - val_loss: 6.9808e-06\n",
            "Epoch 91/200\n",
            "15/15 [==============================] - 1s 45ms/step - loss: 2.4482e-05 - val_loss: 3.1571e-05\n",
            "Epoch 92/200\n",
            "15/15 [==============================] - 1s 45ms/step - loss: 2.5135e-05 - val_loss: 2.6042e-05\n",
            "Epoch 93/200\n",
            "15/15 [==============================] - 1s 46ms/step - loss: 4.7449e-05 - val_loss: 7.7334e-05\n",
            "Epoch 94/200\n",
            "15/15 [==============================] - 1s 45ms/step - loss: 5.0140e-05 - val_loss: 7.3911e-05\n",
            "Epoch 95/200\n",
            "15/15 [==============================] - 1s 45ms/step - loss: 6.8934e-05 - val_loss: 1.0425e-04\n",
            "Epoch 96/200\n",
            "15/15 [==============================] - 1s 45ms/step - loss: 5.2318e-05 - val_loss: 8.1517e-05\n",
            "Epoch 97/200\n",
            "15/15 [==============================] - 1s 45ms/step - loss: 5.2124e-05 - val_loss: 6.0247e-05\n",
            "Epoch 98/200\n",
            "15/15 [==============================] - 1s 48ms/step - loss: 2.6916e-05 - val_loss: 3.1242e-05\n",
            "Epoch 99/200\n",
            "15/15 [==============================] - 1s 46ms/step - loss: 2.0813e-05 - val_loss: 1.7130e-05\n",
            "Epoch 100/200\n",
            "15/15 [==============================] - 1s 46ms/step - loss: 1.4806e-05 - val_loss: 4.7231e-06\n",
            "Epoch 101/200\n",
            "15/15 [==============================] - 1s 45ms/step - loss: 9.6897e-06 - val_loss: 5.0514e-06\n",
            "Epoch 102/200\n",
            "15/15 [==============================] - 1s 46ms/step - loss: 1.1712e-05 - val_loss: 1.7904e-05\n",
            "Epoch 103/200\n",
            "15/15 [==============================] - 1s 45ms/step - loss: 1.3038e-05 - val_loss: 6.3359e-06\n",
            "Epoch 104/200\n",
            "15/15 [==============================] - 1s 45ms/step - loss: 8.9935e-06 - val_loss: 9.7011e-06\n",
            "Epoch 105/200\n",
            "15/15 [==============================] - 1s 46ms/step - loss: 9.3688e-06 - val_loss: 7.6436e-06\n",
            "Epoch 106/200\n",
            "15/15 [==============================] - 1s 46ms/step - loss: 8.8280e-06 - val_loss: 4.3546e-06\n",
            "Epoch 107/200\n",
            "15/15 [==============================] - 1s 45ms/step - loss: 1.0342e-05 - val_loss: 1.1257e-05\n",
            "Epoch 108/200\n",
            "15/15 [==============================] - 1s 45ms/step - loss: 1.2582e-05 - val_loss: 7.3187e-06\n",
            "Epoch 109/200\n",
            "15/15 [==============================] - 1s 46ms/step - loss: 1.5950e-05 - val_loss: 2.0132e-05\n",
            "Epoch 110/200\n",
            "15/15 [==============================] - 1s 45ms/step - loss: 2.0802e-05 - val_loss: 2.0115e-05\n",
            "Epoch 111/200\n",
            "15/15 [==============================] - 1s 46ms/step - loss: 2.6843e-05 - val_loss: 3.7251e-05\n",
            "Epoch 112/200\n",
            "15/15 [==============================] - 1s 45ms/step - loss: 3.2351e-05 - val_loss: 4.2972e-05\n",
            "Epoch 113/200\n",
            "15/15 [==============================] - 1s 45ms/step - loss: 3.5909e-05 - val_loss: 5.4148e-05\n",
            "Epoch 114/200\n",
            "15/15 [==============================] - 1s 46ms/step - loss: 3.7407e-05 - val_loss: 5.4130e-05\n",
            "Epoch 115/200\n",
            "15/15 [==============================] - 1s 46ms/step - loss: 3.3652e-05 - val_loss: 4.7143e-05\n",
            "Epoch 116/200\n",
            "15/15 [==============================] - 1s 46ms/step - loss: 2.7659e-05 - val_loss: 3.6092e-05\n",
            "Epoch 117/200\n",
            "15/15 [==============================] - 1s 46ms/step - loss: 2.0898e-05 - val_loss: 2.3137e-05\n",
            "Epoch 118/200\n",
            "15/15 [==============================] - 1s 46ms/step - loss: 1.4064e-05 - val_loss: 9.0738e-06\n",
            "Epoch 119/200\n",
            "15/15 [==============================] - 1s 46ms/step - loss: 9.7717e-06 - val_loss: 6.2309e-06\n",
            "Epoch 120/200\n",
            "15/15 [==============================] - 1s 46ms/step - loss: 7.3614e-06 - val_loss: 4.4196e-06\n",
            "Epoch 121/200\n",
            "15/15 [==============================] - 1s 46ms/step - loss: 5.5268e-06 - val_loss: 4.2180e-06\n",
            "Epoch 122/200\n",
            "15/15 [==============================] - 1s 46ms/step - loss: 6.4623e-06 - val_loss: 7.4929e-06\n",
            "Epoch 123/200\n",
            "15/15 [==============================] - 1s 46ms/step - loss: 6.4487e-06 - val_loss: 4.9555e-06\n",
            "Epoch 124/200\n",
            "15/15 [==============================] - 1s 46ms/step - loss: 7.1618e-06 - val_loss: 1.0626e-05\n",
            "Epoch 125/200\n",
            "15/15 [==============================] - 1s 46ms/step - loss: 9.4246e-06 - val_loss: 7.4906e-06\n",
            "Epoch 126/200\n",
            "15/15 [==============================] - 1s 46ms/step - loss: 7.8883e-06 - val_loss: 9.9065e-06\n",
            "Epoch 127/200\n",
            "15/15 [==============================] - 1s 47ms/step - loss: 1.1465e-05 - val_loss: 1.0694e-05\n",
            "Epoch 128/200\n",
            "15/15 [==============================] - 1s 46ms/step - loss: 9.6195e-06 - val_loss: 4.4019e-06\n",
            "Epoch 129/200\n",
            "15/15 [==============================] - 1s 46ms/step - loss: 1.2628e-05 - val_loss: 1.4665e-05\n",
            "Epoch 130/200\n",
            "15/15 [==============================] - 1s 46ms/step - loss: 1.6191e-05 - val_loss: 1.0258e-05\n",
            "Epoch 131/200\n",
            "15/15 [==============================] - 1s 46ms/step - loss: 2.2707e-05 - val_loss: 3.0569e-05\n",
            "Epoch 132/200\n",
            "15/15 [==============================] - 1s 45ms/step - loss: 3.0553e-05 - val_loss: 3.6226e-05\n",
            "Epoch 133/200\n",
            "15/15 [==============================] - 1s 45ms/step - loss: 4.0267e-05 - val_loss: 6.4005e-05\n",
            "Epoch 134/200\n",
            "15/15 [==============================] - 1s 45ms/step - loss: 4.6317e-05 - val_loss: 6.9358e-05\n",
            "Epoch 135/200\n",
            "15/15 [==============================] - 1s 45ms/step - loss: 4.6987e-05 - val_loss: 7.3744e-05\n",
            "Epoch 136/200\n",
            "15/15 [==============================] - 1s 45ms/step - loss: 3.9057e-05 - val_loss: 5.2585e-05\n",
            "Epoch 137/200\n",
            "15/15 [==============================] - 1s 45ms/step - loss: 2.9376e-05 - val_loss: 4.0149e-05\n",
            "Epoch 138/200\n",
            "15/15 [==============================] - 1s 45ms/step - loss: 1.9107e-05 - val_loss: 1.6216e-05\n",
            "Epoch 139/200\n",
            "15/15 [==============================] - 1s 45ms/step - loss: 1.2102e-05 - val_loss: 8.1603e-06\n",
            "Epoch 140/200\n",
            "15/15 [==============================] - 1s 45ms/step - loss: 8.7563e-06 - val_loss: 4.3604e-06\n",
            "Epoch 141/200\n",
            "15/15 [==============================] - 1s 45ms/step - loss: 6.2744e-06 - val_loss: 4.4743e-06\n",
            "Epoch 142/200\n",
            "15/15 [==============================] - 1s 49ms/step - loss: 8.0075e-06 - val_loss: 1.1586e-05\n",
            "Epoch 143/200\n",
            "15/15 [==============================] - 1s 46ms/step - loss: 8.5247e-06 - val_loss: 5.5097e-06\n",
            "Epoch 144/200\n",
            "15/15 [==============================] - 1s 46ms/step - loss: 8.0891e-06 - val_loss: 1.1878e-05\n",
            "Epoch 145/200\n",
            "15/15 [==============================] - 1s 46ms/step - loss: 9.9391e-06 - val_loss: 7.5696e-06\n",
            "Epoch 146/200\n",
            "15/15 [==============================] - 1s 46ms/step - loss: 8.1180e-06 - val_loss: 7.2428e-06\n",
            "Epoch 147/200\n",
            "15/15 [==============================] - 1s 46ms/step - loss: 1.0217e-05 - val_loss: 1.0238e-05\n",
            "Epoch 148/200\n",
            "15/15 [==============================] - 1s 46ms/step - loss: 9.2253e-06 - val_loss: 3.8839e-06\n",
            "Epoch 149/200\n",
            "15/15 [==============================] - 1s 45ms/step - loss: 1.0990e-05 - val_loss: 1.2801e-05\n",
            "Epoch 150/200\n",
            "15/15 [==============================] - 1s 46ms/step - loss: 1.2560e-05 - val_loss: 7.5149e-06\n",
            "Epoch 151/200\n",
            "15/15 [==============================] - 1s 46ms/step - loss: 1.6034e-05 - val_loss: 2.0217e-05\n",
            "Epoch 152/200\n",
            "15/15 [==============================] - 1s 46ms/step - loss: 1.8275e-05 - val_loss: 1.5841e-05\n",
            "Epoch 153/200\n",
            "15/15 [==============================] - 1s 46ms/step - loss: 2.2276e-05 - val_loss: 3.1500e-05\n",
            "Epoch 154/200\n",
            "15/15 [==============================] - 1s 46ms/step - loss: 2.4020e-05 - val_loss: 2.7175e-05\n",
            "Epoch 155/200\n",
            "15/15 [==============================] - 1s 46ms/step - loss: 2.7704e-05 - val_loss: 4.1495e-05\n",
            "Epoch 156/200\n",
            "15/15 [==============================] - 1s 46ms/step - loss: 2.6616e-05 - val_loss: 3.3746e-05\n",
            "Epoch 157/200\n",
            "15/15 [==============================] - 1s 46ms/step - loss: 2.4438e-05 - val_loss: 3.4797e-05\n",
            "Epoch 158/200\n",
            "15/15 [==============================] - 1s 46ms/step - loss: 1.9418e-05 - val_loss: 2.1610e-05\n",
            "Epoch 159/200\n",
            "15/15 [==============================] - 1s 46ms/step - loss: 1.5700e-05 - val_loss: 1.9061e-05\n",
            "Epoch 160/200\n",
            "15/15 [==============================] - 1s 46ms/step - loss: 1.1092e-05 - val_loss: 6.7354e-06\n",
            "Epoch 161/200\n",
            "15/15 [==============================] - 1s 46ms/step - loss: 7.9302e-06 - val_loss: 7.3547e-06\n",
            "Epoch 162/200\n",
            "15/15 [==============================] - 1s 46ms/step - loss: 6.5521e-06 - val_loss: 4.3698e-06\n",
            "Epoch 163/200\n",
            "15/15 [==============================] - 1s 47ms/step - loss: 5.8539e-06 - val_loss: 5.3529e-06\n",
            "Epoch 164/200\n",
            "15/15 [==============================] - 1s 47ms/step - loss: 6.9762e-06 - val_loss: 8.7656e-06\n",
            "Epoch 165/200\n",
            "15/15 [==============================] - 1s 46ms/step - loss: 8.1084e-06 - val_loss: 6.1701e-06\n",
            "Epoch 166/200\n",
            "15/15 [==============================] - 1s 46ms/step - loss: 7.1125e-06 - val_loss: 8.9808e-06\n",
            "Epoch 167/200\n",
            "15/15 [==============================] - 1s 46ms/step - loss: 9.2282e-06 - val_loss: 7.6797e-06\n",
            "Epoch 168/200\n",
            "15/15 [==============================] - 1s 46ms/step - loss: 7.4792e-06 - val_loss: 5.7158e-06\n",
            "Epoch 169/200\n",
            "15/15 [==============================] - 1s 46ms/step - loss: 9.3418e-06 - val_loss: 1.0213e-05\n",
            "Epoch 170/200\n",
            "15/15 [==============================] - 1s 46ms/step - loss: 9.0779e-06 - val_loss: 3.6956e-06\n",
            "Epoch 171/200\n",
            "15/15 [==============================] - 1s 47ms/step - loss: 1.2384e-05 - val_loss: 1.5087e-05\n",
            "Epoch 172/200\n",
            "15/15 [==============================] - 1s 46ms/step - loss: 1.3579e-05 - val_loss: 7.6065e-06\n",
            "Epoch 173/200\n",
            "15/15 [==============================] - 1s 45ms/step - loss: 1.9760e-05 - val_loss: 2.7057e-05\n",
            "Epoch 174/200\n",
            "15/15 [==============================] - 1s 48ms/step - loss: 2.2869e-05 - val_loss: 2.2623e-05\n",
            "Epoch 175/200\n",
            "15/15 [==============================] - 1s 48ms/step - loss: 3.0062e-05 - val_loss: 4.6513e-05\n",
            "Epoch 176/200\n",
            "15/15 [==============================] - 1s 46ms/step - loss: 3.2735e-05 - val_loss: 4.4462e-05\n",
            "Epoch 177/200\n",
            "15/15 [==============================] - 1s 46ms/step - loss: 3.6645e-05 - val_loss: 5.8147e-05\n",
            "Epoch 178/200\n",
            "15/15 [==============================] - 1s 46ms/step - loss: 3.1640e-05 - val_loss: 4.4569e-05\n",
            "Epoch 179/200\n",
            "15/15 [==============================] - 1s 46ms/step - loss: 2.7238e-05 - val_loss: 3.7262e-05\n",
            "Epoch 180/200\n",
            "15/15 [==============================] - 1s 46ms/step - loss: 1.8864e-05 - val_loss: 1.9533e-05\n",
            "Epoch 181/200\n",
            "15/15 [==============================] - 1s 46ms/step - loss: 1.3019e-05 - val_loss: 1.3123e-05\n",
            "Epoch 182/200\n",
            "15/15 [==============================] - 1s 47ms/step - loss: 9.2473e-06 - val_loss: 3.6431e-06\n",
            "Epoch 183/200\n",
            "15/15 [==============================] - 1s 46ms/step - loss: 6.3868e-06 - val_loss: 5.3189e-06\n",
            "Epoch 184/200\n",
            "15/15 [==============================] - 1s 46ms/step - loss: 7.6163e-06 - val_loss: 9.3436e-06\n",
            "Epoch 185/200\n",
            "15/15 [==============================] - 1s 46ms/step - loss: 7.8323e-06 - val_loss: 4.8198e-06\n",
            "Epoch 186/200\n",
            "15/15 [==============================] - 1s 46ms/step - loss: 8.1530e-06 - val_loss: 1.2243e-05\n",
            "Epoch 187/200\n",
            "15/15 [==============================] - 1s 47ms/step - loss: 9.5877e-06 - val_loss: 6.6040e-06\n",
            "Epoch 188/200\n",
            "15/15 [==============================] - 1s 46ms/step - loss: 7.2709e-06 - val_loss: 7.9518e-06\n",
            "Epoch 189/200\n",
            "15/15 [==============================] - 1s 46ms/step - loss: 8.5203e-06 - val_loss: 7.7207e-06\n",
            "Epoch 190/200\n",
            "15/15 [==============================] - 1s 46ms/step - loss: 7.1311e-06 - val_loss: 3.9536e-06\n",
            "Epoch 191/200\n",
            "15/15 [==============================] - 1s 46ms/step - loss: 8.2307e-06 - val_loss: 9.2669e-06\n",
            "Epoch 192/200\n",
            "15/15 [==============================] - 1s 46ms/step - loss: 8.7409e-06 - val_loss: 3.7704e-06\n",
            "Epoch 193/200\n",
            "15/15 [==============================] - 1s 46ms/step - loss: 1.2353e-05 - val_loss: 1.5182e-05\n",
            "Epoch 194/200\n",
            "15/15 [==============================] - 1s 46ms/step - loss: 1.3302e-05 - val_loss: 7.7479e-06\n",
            "Epoch 195/200\n",
            "15/15 [==============================] - 1s 46ms/step - loss: 1.8264e-05 - val_loss: 2.5430e-05\n",
            "Epoch 196/200\n",
            "15/15 [==============================] - 1s 46ms/step - loss: 1.9800e-05 - val_loss: 1.8418e-05\n",
            "Epoch 197/200\n",
            "15/15 [==============================] - 1s 45ms/step - loss: 2.3427e-05 - val_loss: 3.4354e-05\n",
            "Epoch 198/200\n",
            "15/15 [==============================] - 1s 46ms/step - loss: 2.2874e-05 - val_loss: 2.6899e-05\n",
            "Epoch 199/200\n",
            "15/15 [==============================] - 1s 46ms/step - loss: 2.4501e-05 - val_loss: 3.8002e-05\n",
            "Epoch 200/200\n",
            "15/15 [==============================] - 1s 46ms/step - loss: 2.0810e-05 - val_loss: 2.5543e-05\n"
          ],
          "name": "stdout"
        }
      ]
    },
    {
      "cell_type": "code",
      "metadata": {
        "id": "L9JumIeP40xv",
        "colab": {
          "base_uri": "https://localhost:8080/"
        },
        "outputId": "c354d2a2-df29-4ff6-820b-b4eb0638b517"
      },
      "source": [
        "model.evaluate(X_test, y_test)"
      ],
      "execution_count": null,
      "outputs": [
        {
          "output_type": "stream",
          "text": [
            "9/9 [==============================] - 0s 33ms/step - loss: 0.0032\n"
          ],
          "name": "stdout"
        },
        {
          "output_type": "execute_result",
          "data": {
            "text/plain": [
              "0.0031834545079618692"
            ]
          },
          "metadata": {
            "tags": []
          },
          "execution_count": 55
        }
      ]
    },
    {
      "cell_type": "code",
      "metadata": {
        "id": "2_9ibR1e5DnQ",
        "colab": {
          "base_uri": "https://localhost:8080/",
          "height": 318
        },
        "outputId": "5e928b44-24c5-4fd6-cdd3-c7c78f9987d1"
      },
      "source": [
        "plt.plot(history.history['loss'])\n",
        "plt.plot(history.history['val_loss'])\n",
        "plt.title('model loss')\n",
        "plt.ylabel('loss')\n",
        "plt.xlabel('epoch')\n",
        "plt.legend(['train', 'test'], loc='upper left')\n",
        "plt.show()"
      ],
      "execution_count": null,
      "outputs": [
        {
          "output_type": "display_data",
          "data": {
            "image/png": "[encoded data removed]",
            "text/plain": [
              "<Figure size 432x288 with 1 Axes>"
            ]
          },
          "metadata": {
            "tags": [],
            "needs_background": "light"
          }
        }
      ]
    },
    {
      "cell_type": "markdown",
      "metadata": {
        "id": "Xf9STH2D4_hP"
      },
      "source": [
        "# Prediction"
      ]
    },
    {
      "cell_type": "code",
      "metadata": {
        "id": "Lui1XTi0xVsF",
        "colab": {
          "base_uri": "https://localhost:8080/",
          "height": 318
        },
        "outputId": "31f8c734-4783-46b8-d230-0eb223f62a13"
      },
      "source": [
        "y_hat = model.predict(X_test)\n",
        "\n",
        "y_test_inverse = scaler.inverse_transform(y_test)\n",
        "y_hat_inverse = scaler.inverse_transform(y_hat)\n",
        " \n",
        "plt.plot(y_test_inverse, label=\"Actual Price\", color='green')\n",
        "plt.plot(y_hat_inverse, label=\"Predicted Price\", color='red')\n",
        " \n",
        "plt.title('Bitcoin price prediction')\n",
        "plt.xlabel('Time [days]')\n",
        "plt.ylabel('Price')\n",
        "plt.legend(loc='best')\n",
        " \n",
        "plt.show();"
      ],
      "execution_count": null,
      "outputs": [
        {
          "output_type": "display_data",
          "data": {
            "image/png": "[encoded data removed]",
            "text/plain": [
              "<Figure size 432x288 with 1 Axes>"
            ]
          },
          "metadata": {
            "tags": [],
            "needs_background": "light"
          }
        }
      ]
    },
    {
      "cell_type": "code",
      "metadata": {
        "id": "ak-CiQAVz4Fw"
      },
      "source": [
        ""
      ],
      "execution_count": null,
      "outputs": []
    }
  ]
}